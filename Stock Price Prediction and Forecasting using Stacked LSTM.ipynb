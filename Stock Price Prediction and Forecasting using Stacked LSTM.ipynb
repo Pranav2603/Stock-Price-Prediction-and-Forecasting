{
 "cells": [
  {
   "cell_type": "code",
   "execution_count": 59,
   "id": "06595716",
   "metadata": {},
   "outputs": [],
   "source": [
    "import numpy as np\n",
    "import matplotlib.pyplot as plt\n",
    "import pandas as pd"
   ]
  },
  {
   "cell_type": "code",
   "execution_count": 36,
   "id": "b3e5f824",
   "metadata": {},
   "outputs": [
    {
     "name": "stdout",
     "output_type": "stream",
     "text": [
      "Collecting tensorflowNote: you may need to restart the kernel to use updated packages.\n",
      "  Downloading tensorflow-2.9.1-cp39-cp39-win_amd64.whl (444.0 MB)\n",
      "Collecting flatbuffers<2,>=1.12\n",
      "  Downloading flatbuffers-1.12-py2.py3-none-any.whl (15 kB)\n",
      "Collecting gast<=0.4.0,>=0.2.1\n",
      "  Downloading gast-0.4.0-py3-none-any.whl (9.8 kB)\n",
      "Requirement already satisfied: typing-extensions>=3.6.6 in c:\\users\\prana\\anaconda3\\lib\\site-packages (from tensorflow) (4.1.1)\n",
      "Requirement already satisfied: h5py>=2.9.0 in c:\\users\\prana\\anaconda3\\lib\\site-packages (from tensorflow) (3.6.0)\n",
      "Requirement already satisfied: protobuf<3.20,>=3.9.2 in c:\\users\\prana\\anaconda3\\lib\\site-packages (from tensorflow) (3.19.1)\n",
      "Collecting astunparse>=1.6.0\n",
      "  Downloading astunparse-1.6.3-py2.py3-none-any.whl (12 kB)\n",
      "Collecting tensorboard<2.10,>=2.9\n",
      "  Downloading tensorboard-2.9.1-py3-none-any.whl (5.8 MB)\n",
      "Collecting opt-einsum>=2.3.2\n",
      "  Downloading opt_einsum-3.3.0-py3-none-any.whl (65 kB)\n",
      "Collecting termcolor>=1.1.0\n",
      "  Downloading termcolor-1.1.0.tar.gz (3.9 kB)\n",
      "Requirement already satisfied: wrapt>=1.11.0 in c:\\users\\prana\\anaconda3\\lib\\site-packages (from tensorflow) (1.12.1)\n",
      "Collecting absl-py>=1.0.0\n",
      "  Downloading absl_py-1.2.0-py3-none-any.whl (123 kB)\n",
      "\n",
      "Collecting libclang>=13.0.0\n",
      "  Downloading libclang-14.0.6-py2.py3-none-win_amd64.whl (14.2 MB)\n",
      "Collecting tensorflow-estimator<2.10.0,>=2.9.0rc0\n",
      "  Downloading tensorflow_estimator-2.9.0-py2.py3-none-any.whl (438 kB)\n",
      "Collecting google-pasta>=0.1.1\n",
      "  Downloading google_pasta-0.2.0-py3-none-any.whl (57 kB)\n",
      "Requirement already satisfied: grpcio<2.0,>=1.24.3 in c:\\users\\prana\\anaconda3\\lib\\site-packages (from tensorflow) (1.42.0)\n",
      "Collecting keras<2.10.0,>=2.9.0rc0\n",
      "  Downloading keras-2.9.0-py2.py3-none-any.whl (1.6 MB)\n",
      "Collecting tensorflow-io-gcs-filesystem>=0.23.1\n",
      "  Downloading tensorflow_io_gcs_filesystem-0.26.0-cp39-cp39-win_amd64.whl (1.5 MB)\n",
      "Requirement already satisfied: six>=1.12.0 in c:\\users\\prana\\anaconda3\\lib\\site-packages (from tensorflow) (1.16.0)\n",
      "Requirement already satisfied: numpy>=1.20 in c:\\users\\prana\\anaconda3\\lib\\site-packages (from tensorflow) (1.21.5)\n",
      "Collecting keras-preprocessing>=1.1.1\n",
      "  Downloading Keras_Preprocessing-1.1.2-py2.py3-none-any.whl (42 kB)\n",
      "Requirement already satisfied: packaging in c:\\users\\prana\\anaconda3\\lib\\site-packages (from tensorflow) (21.3)\n",
      "Requirement already satisfied: setuptools in c:\\users\\prana\\anaconda3\\lib\\site-packages (from tensorflow) (61.2.0)\n",
      "Requirement already satisfied: wheel<1.0,>=0.23.0 in c:\\users\\prana\\anaconda3\\lib\\site-packages (from astunparse>=1.6.0->tensorflow) (0.37.1)\n",
      "Collecting tensorboard-data-server<0.7.0,>=0.6.0\n",
      "  Downloading tensorboard_data_server-0.6.1-py3-none-any.whl (2.4 kB)\n",
      "Requirement already satisfied: markdown>=2.6.8 in c:\\users\\prana\\anaconda3\\lib\\site-packages (from tensorboard<2.10,>=2.9->tensorflow) (3.3.4)\n",
      "Requirement already satisfied: google-auth<3,>=1.6.3 in c:\\users\\prana\\anaconda3\\lib\\site-packages (from tensorboard<2.10,>=2.9->tensorflow) (1.33.0)\n",
      "Collecting google-auth-oauthlib<0.5,>=0.4.1\n",
      "  Downloading google_auth_oauthlib-0.4.6-py2.py3-none-any.whl (18 kB)\n",
      "Requirement already satisfied: werkzeug>=1.0.1 in c:\\users\\prana\\anaconda3\\lib\\site-packages (from tensorboard<2.10,>=2.9->tensorflow) (2.0.3)\n",
      "Collecting tensorboard-plugin-wit>=1.6.0\n",
      "  Downloading tensorboard_plugin_wit-1.8.1-py3-none-any.whl (781 kB)\n",
      "Requirement already satisfied: requests<3,>=2.21.0 in c:\\users\\prana\\anaconda3\\lib\\site-packages (from tensorboard<2.10,>=2.9->tensorflow) (2.27.1)\n",
      "Requirement already satisfied: cachetools<5.0,>=2.0.0 in c:\\users\\prana\\anaconda3\\lib\\site-packages (from google-auth<3,>=1.6.3->tensorboard<2.10,>=2.9->tensorflow) (4.2.2)\n",
      "Requirement already satisfied: pyasn1-modules>=0.2.1 in c:\\users\\prana\\anaconda3\\lib\\site-packages (from google-auth<3,>=1.6.3->tensorboard<2.10,>=2.9->tensorflow) (0.2.8)\n",
      "Requirement already satisfied: rsa<5,>=3.1.4 in c:\\users\\prana\\anaconda3\\lib\\site-packages (from google-auth<3,>=1.6.3->tensorboard<2.10,>=2.9->tensorflow) (4.7.2)\n",
      "Collecting requests-oauthlib>=0.7.0\n",
      "  Downloading requests_oauthlib-1.3.1-py2.py3-none-any.whl (23 kB)\n",
      "Requirement already satisfied: pyasn1<0.5.0,>=0.4.6 in c:\\users\\prana\\anaconda3\\lib\\site-packages (from pyasn1-modules>=0.2.1->google-auth<3,>=1.6.3->tensorboard<2.10,>=2.9->tensorflow) (0.4.8)\n",
      "Requirement already satisfied: charset-normalizer~=2.0.0 in c:\\users\\prana\\anaconda3\\lib\\site-packages (from requests<3,>=2.21.0->tensorboard<2.10,>=2.9->tensorflow) (2.0.4)\n",
      "Requirement already satisfied: urllib3<1.27,>=1.21.1 in c:\\users\\prana\\anaconda3\\lib\\site-packages (from requests<3,>=2.21.0->tensorboard<2.10,>=2.9->tensorflow) (1.26.9)\n",
      "Requirement already satisfied: idna<4,>=2.5 in c:\\users\\prana\\anaconda3\\lib\\site-packages (from requests<3,>=2.21.0->tensorboard<2.10,>=2.9->tensorflow) (3.3)\n",
      "Requirement already satisfied: certifi>=2017.4.17 in c:\\users\\prana\\anaconda3\\lib\\site-packages (from requests<3,>=2.21.0->tensorboard<2.10,>=2.9->tensorflow) (2021.10.8)\n",
      "Collecting oauthlib>=3.0.0\n",
      "  Downloading oauthlib-3.2.0-py3-none-any.whl (151 kB)\n",
      "Requirement already satisfied: pyparsing!=3.0.5,>=2.0.2 in c:\\users\\prana\\anaconda3\\lib\\site-packages (from packaging->tensorflow) (3.0.4)\n",
      "Building wheels for collected packages: termcolor\n",
      "  Building wheel for termcolor (setup.py): started\n",
      "  Building wheel for termcolor (setup.py): finished with status 'done'\n",
      "  Created wheel for termcolor: filename=termcolor-1.1.0-py3-none-any.whl size=4848 sha256=d66b1ebb4b709d596aa1c28bc4a6c6e0b33629b3e082a3343ebef8daae354fa6\n",
      "  Stored in directory: c:\\users\\prana\\appdata\\local\\pip\\cache\\wheels\\b6\\0d\\90\\0d1bbd99855f99cb2f6c2e5ff96f8023fad8ec367695f7d72d\n",
      "Successfully built termcolor\n",
      "Installing collected packages: oauthlib, requests-oauthlib, tensorboard-plugin-wit, tensorboard-data-server, google-auth-oauthlib, absl-py, termcolor, tensorflow-io-gcs-filesystem, tensorflow-estimator, tensorboard, opt-einsum, libclang, keras-preprocessing, keras, google-pasta, gast, flatbuffers, astunparse, tensorflow"
     ]
    }
   ],
   "source": [
    "pip install tensorflow"
   ]
  },
  {
   "cell_type": "code",
   "execution_count": 18,
   "id": "3af7928c",
   "metadata": {},
   "outputs": [],
   "source": [
    "apple_training_complete = pd.read_csv('D:\\DATA\\AAPL.csv')"
   ]
  },
  {
   "cell_type": "code",
   "execution_count": 19,
   "id": "b729c030",
   "metadata": {},
   "outputs": [],
   "source": [
    "apple_training_processed = apple_training_complete.iloc[:, 1:2].values"
   ]
  },
  {
   "cell_type": "code",
   "execution_count": 20,
   "id": "76bf9675",
   "metadata": {},
   "outputs": [],
   "source": [
    "from sklearn.preprocessing import MinMaxScaler\n",
    "scaler = MinMaxScaler(feature_range = (0, 1))\n",
    "\n",
    "apple_training_scaled = scaler.fit_transform(apple_training_processed)"
   ]
  },
  {
   "cell_type": "code",
   "execution_count": 21,
   "id": "110be6f6",
   "metadata": {},
   "outputs": [],
   "source": [
    "features_set = []\n",
    "labels = []\n",
    "for i in range(60, 1260):\n",
    "    features_set.append(apple_training_scaled[i-60:i, 0])\n",
    "    labels.append(apple_training_scaled[i, 0])"
   ]
  },
  {
   "cell_type": "code",
   "execution_count": 22,
   "id": "57135678",
   "metadata": {},
   "outputs": [],
   "source": [
    "features_set, labels = np.array(features_set), np.array(labels)"
   ]
  },
  {
   "cell_type": "code",
   "execution_count": 23,
   "id": "6c0b5f97",
   "metadata": {},
   "outputs": [],
   "source": [
    "features_set = np.reshape(features_set, (features_set.shape[0], features_set.shape[1], 1))"
   ]
  },
  {
   "cell_type": "code",
   "execution_count": 38,
   "id": "638d90ba",
   "metadata": {},
   "outputs": [],
   "source": [
    "from tensorflow.keras.models import Sequential\n",
    "from tensorflow.keras.layers import Dense\n",
    "from tensorflow.keras.layers import LSTM\n",
    "from tensorflow.keras.layers import Dropout"
   ]
  },
  {
   "cell_type": "code",
   "execution_count": 39,
   "id": "ea396c5b",
   "metadata": {},
   "outputs": [],
   "source": [
    "model = Sequential()"
   ]
  },
  {
   "cell_type": "code",
   "execution_count": 40,
   "id": "265c4721",
   "metadata": {},
   "outputs": [],
   "source": [
    "model.add(LSTM(units=50, return_sequences=True, input_shape=(features_set.shape[1], 1)))"
   ]
  },
  {
   "cell_type": "code",
   "execution_count": 41,
   "id": "7777af32",
   "metadata": {},
   "outputs": [],
   "source": [
    "model.add(Dropout(0.2))"
   ]
  },
  {
   "cell_type": "code",
   "execution_count": 42,
   "id": "5b21a121",
   "metadata": {},
   "outputs": [],
   "source": [
    "model.add(LSTM(units=50, return_sequences=True))\n",
    "model.add(Dropout(0.2))\n",
    "\n",
    "model.add(LSTM(units=50, return_sequences=True))\n",
    "model.add(Dropout(0.2))\n",
    "\n",
    "model.add(LSTM(units=50))\n",
    "model.add(Dropout(0.2))"
   ]
  },
  {
   "cell_type": "code",
   "execution_count": 43,
   "id": "dc34ac88",
   "metadata": {},
   "outputs": [],
   "source": [
    "model.add(Dense(units = 1))"
   ]
  },
  {
   "cell_type": "code",
   "execution_count": 44,
   "id": "6247ef75",
   "metadata": {},
   "outputs": [],
   "source": [
    "model.compile(optimizer = 'adam', loss = 'mean_squared_error')"
   ]
  },
  {
   "cell_type": "code",
   "execution_count": 45,
   "id": "953760c3",
   "metadata": {},
   "outputs": [
    {
     "name": "stdout",
     "output_type": "stream",
     "text": [
      "Epoch 1/100\n",
      "38/38 [==============================] - 24s 150ms/step - loss: 0.0268\n",
      "Epoch 2/100\n",
      "38/38 [==============================] - 6s 146ms/step - loss: 0.0054\n",
      "Epoch 3/100\n",
      "38/38 [==============================] - 5s 144ms/step - loss: 0.0044\n",
      "Epoch 4/100\n",
      "38/38 [==============================] - 6s 156ms/step - loss: 0.0041\n",
      "Epoch 5/100\n",
      "38/38 [==============================] - 5s 144ms/step - loss: 0.0043\n",
      "Epoch 6/100\n",
      "38/38 [==============================] - 6s 153ms/step - loss: 0.0037\n",
      "Epoch 7/100\n",
      "38/38 [==============================] - 6s 156ms/step - loss: 0.0042\n",
      "Epoch 8/100\n",
      "38/38 [==============================] - 6s 151ms/step - loss: 0.0034\n",
      "Epoch 9/100\n",
      "38/38 [==============================] - 5s 142ms/step - loss: 0.0032\n",
      "Epoch 10/100\n",
      "38/38 [==============================] - 6s 152ms/step - loss: 0.0042\n",
      "Epoch 11/100\n",
      "38/38 [==============================] - 6s 157ms/step - loss: 0.0032\n",
      "Epoch 12/100\n",
      "38/38 [==============================] - 6s 151ms/step - loss: 0.0034\n",
      "Epoch 13/100\n",
      "38/38 [==============================] - 6s 146ms/step - loss: 0.0035\n",
      "Epoch 14/100\n",
      "38/38 [==============================] - 5s 145ms/step - loss: 0.0028\n",
      "Epoch 15/100\n",
      "38/38 [==============================] - 5s 143ms/step - loss: 0.0028\n",
      "Epoch 16/100\n",
      "38/38 [==============================] - 6s 148ms/step - loss: 0.0028\n",
      "Epoch 17/100\n",
      "38/38 [==============================] - 6s 153ms/step - loss: 0.0027\n",
      "Epoch 18/100\n",
      "38/38 [==============================] - 6s 153ms/step - loss: 0.0025\n",
      "Epoch 19/100\n",
      "38/38 [==============================] - 6s 154ms/step - loss: 0.0025\n",
      "Epoch 20/100\n",
      "38/38 [==============================] - 6s 145ms/step - loss: 0.0025\n",
      "Epoch 21/100\n",
      "38/38 [==============================] - 6s 151ms/step - loss: 0.0025\n",
      "Epoch 22/100\n",
      "38/38 [==============================] - 6s 152ms/step - loss: 0.0025\n",
      "Epoch 23/100\n",
      "38/38 [==============================] - 6s 155ms/step - loss: 0.0024\n",
      "Epoch 24/100\n",
      "38/38 [==============================] - 6s 156ms/step - loss: 0.0022\n",
      "Epoch 25/100\n",
      "38/38 [==============================] - 6s 158ms/step - loss: 0.0027\n",
      "Epoch 26/100\n",
      "38/38 [==============================] - 6s 152ms/step - loss: 0.0023\n",
      "Epoch 27/100\n",
      "38/38 [==============================] - 6s 149ms/step - loss: 0.0024\n",
      "Epoch 28/100\n",
      "38/38 [==============================] - 6s 152ms/step - loss: 0.0023\n",
      "Epoch 29/100\n",
      "38/38 [==============================] - 6s 155ms/step - loss: 0.0020\n",
      "Epoch 30/100\n",
      "38/38 [==============================] - 6s 154ms/step - loss: 0.0020\n",
      "Epoch 31/100\n",
      "38/38 [==============================] - 6s 149ms/step - loss: 0.0022\n",
      "Epoch 32/100\n",
      "38/38 [==============================] - 6s 152ms/step - loss: 0.0021\n",
      "Epoch 33/100\n",
      "38/38 [==============================] - 6s 144ms/step - loss: 0.0018\n",
      "Epoch 34/100\n",
      "38/38 [==============================] - 5s 132ms/step - loss: 0.0020\n",
      "Epoch 35/100\n",
      "38/38 [==============================] - 6s 150ms/step - loss: 0.0019\n",
      "Epoch 36/100\n",
      "38/38 [==============================] - 6s 145ms/step - loss: 0.0018\n",
      "Epoch 37/100\n",
      "38/38 [==============================] - 5s 144ms/step - loss: 0.0019\n",
      "Epoch 38/100\n",
      "38/38 [==============================] - 6s 157ms/step - loss: 0.0019\n",
      "Epoch 39/100\n",
      "38/38 [==============================] - 6s 155ms/step - loss: 0.0019\n",
      "Epoch 40/100\n",
      "38/38 [==============================] - 6s 159ms/step - loss: 0.0019\n",
      "Epoch 41/100\n",
      "38/38 [==============================] - 6s 155ms/step - loss: 0.0018\n",
      "Epoch 42/100\n",
      "38/38 [==============================] - 6s 150ms/step - loss: 0.0016\n",
      "Epoch 43/100\n",
      "38/38 [==============================] - 6s 154ms/step - loss: 0.0019\n",
      "Epoch 44/100\n",
      "38/38 [==============================] - 6s 158ms/step - loss: 0.0020\n",
      "Epoch 45/100\n",
      "38/38 [==============================] - 6s 158ms/step - loss: 0.0017\n",
      "Epoch 46/100\n",
      "38/38 [==============================] - 6s 155ms/step - loss: 0.0016\n",
      "Epoch 47/100\n",
      "38/38 [==============================] - 6s 156ms/step - loss: 0.0017\n",
      "Epoch 48/100\n",
      "38/38 [==============================] - 6s 155ms/step - loss: 0.0016\n",
      "Epoch 49/100\n",
      "38/38 [==============================] - 6s 158ms/step - loss: 0.0015\n",
      "Epoch 50/100\n",
      "38/38 [==============================] - 6s 161ms/step - loss: 0.0016\n",
      "Epoch 51/100\n",
      "38/38 [==============================] - 6s 157ms/step - loss: 0.0017\n",
      "Epoch 52/100\n",
      "38/38 [==============================] - 6s 156ms/step - loss: 0.0016\n",
      "Epoch 53/100\n",
      "38/38 [==============================] - 6s 155ms/step - loss: 0.0016\n",
      "Epoch 54/100\n",
      "38/38 [==============================] - 6s 155ms/step - loss: 0.0016\n",
      "Epoch 55/100\n",
      "38/38 [==============================] - 6s 153ms/step - loss: 0.0015\n",
      "Epoch 56/100\n",
      "38/38 [==============================] - 6s 159ms/step - loss: 0.0013\n",
      "Epoch 57/100\n",
      "38/38 [==============================] - 6s 154ms/step - loss: 0.0016\n",
      "Epoch 58/100\n",
      "38/38 [==============================] - 6s 161ms/step - loss: 0.0016\n",
      "Epoch 59/100\n",
      "38/38 [==============================] - 6s 159ms/step - loss: 0.0014\n",
      "Epoch 60/100\n",
      "38/38 [==============================] - 6s 147ms/step - loss: 0.0014\n",
      "Epoch 61/100\n",
      "38/38 [==============================] - 6s 160ms/step - loss: 0.0015\n",
      "Epoch 62/100\n",
      "38/38 [==============================] - 6s 156ms/step - loss: 0.0015\n",
      "Epoch 63/100\n",
      "38/38 [==============================] - 6s 158ms/step - loss: 0.0016\n",
      "Epoch 64/100\n",
      "38/38 [==============================] - 6s 159ms/step - loss: 0.0015\n",
      "Epoch 65/100\n",
      "38/38 [==============================] - 6s 162ms/step - loss: 0.0013\n",
      "Epoch 66/100\n",
      "38/38 [==============================] - 6s 159ms/step - loss: 0.0014\n",
      "Epoch 67/100\n",
      "38/38 [==============================] - 6s 160ms/step - loss: 0.0014\n",
      "Epoch 68/100\n",
      "38/38 [==============================] - 6s 156ms/step - loss: 0.0013\n",
      "Epoch 69/100\n",
      "38/38 [==============================] - 6s 162ms/step - loss: 0.0012\n",
      "Epoch 70/100\n",
      "38/38 [==============================] - 6s 155ms/step - loss: 0.0014\n",
      "Epoch 71/100\n",
      "38/38 [==============================] - 6s 158ms/step - loss: 0.0013\n",
      "Epoch 72/100\n",
      "38/38 [==============================] - 6s 159ms/step - loss: 0.0014\n",
      "Epoch 73/100\n",
      "38/38 [==============================] - 6s 159ms/step - loss: 0.0014\n",
      "Epoch 74/100\n",
      "38/38 [==============================] - 6s 162ms/step - loss: 0.0013\n",
      "Epoch 75/100\n",
      "38/38 [==============================] - 6s 159ms/step - loss: 0.0012\n",
      "Epoch 76/100\n",
      "38/38 [==============================] - 6s 162ms/step - loss: 0.0013\n",
      "Epoch 77/100\n",
      "38/38 [==============================] - 6s 157ms/step - loss: 0.0012\n",
      "Epoch 78/100\n",
      "38/38 [==============================] - 6s 163ms/step - loss: 0.0014\n",
      "Epoch 79/100\n",
      "38/38 [==============================] - 6s 159ms/step - loss: 0.0013\n",
      "Epoch 80/100\n",
      "38/38 [==============================] - 6s 162ms/step - loss: 0.0011\n",
      "Epoch 81/100\n",
      "38/38 [==============================] - 6s 162ms/step - loss: 0.0011\n",
      "Epoch 82/100\n",
      "38/38 [==============================] - 6s 159ms/step - loss: 0.0010\n",
      "Epoch 83/100\n",
      "38/38 [==============================] - 6s 156ms/step - loss: 0.0011\n",
      "Epoch 84/100\n",
      "38/38 [==============================] - 6s 158ms/step - loss: 0.0012\n",
      "Epoch 85/100\n",
      "38/38 [==============================] - 6s 158ms/step - loss: 0.0011\n",
      "Epoch 86/100\n",
      "38/38 [==============================] - 6s 158ms/step - loss: 0.0011\n",
      "Epoch 87/100\n",
      "38/38 [==============================] - 6s 156ms/step - loss: 0.0011\n",
      "Epoch 88/100\n",
      "38/38 [==============================] - 6s 157ms/step - loss: 0.0010\n",
      "Epoch 89/100\n",
      "38/38 [==============================] - 6s 159ms/step - loss: 0.0011\n",
      "Epoch 90/100\n",
      "38/38 [==============================] - 6s 151ms/step - loss: 0.0011\n",
      "Epoch 91/100\n",
      "38/38 [==============================] - 6s 159ms/step - loss: 0.0011\n",
      "Epoch 92/100\n",
      "38/38 [==============================] - 6s 156ms/step - loss: 0.0011\n",
      "Epoch 93/100\n",
      "38/38 [==============================] - 6s 148ms/step - loss: 0.0010\n",
      "Epoch 94/100\n",
      "38/38 [==============================] - 6s 158ms/step - loss: 0.0011\n",
      "Epoch 95/100\n",
      "38/38 [==============================] - 6s 159ms/step - loss: 0.0011\n",
      "Epoch 96/100\n",
      "38/38 [==============================] - 6s 152ms/step - loss: 0.0011\n",
      "Epoch 97/100\n",
      "38/38 [==============================] - 6s 158ms/step - loss: 0.0011\n",
      "Epoch 98/100\n",
      "38/38 [==============================] - 5s 144ms/step - loss: 0.0011\n",
      "Epoch 99/100\n",
      "38/38 [==============================] - 6s 156ms/step - loss: 9.8150e-04\n",
      "Epoch 100/100\n",
      "38/38 [==============================] - 6s 156ms/step - loss: 0.0011\n"
     ]
    },
    {
     "data": {
      "text/plain": [
       "<keras.callbacks.History at 0x2267deb5cd0>"
      ]
     },
     "execution_count": 45,
     "metadata": {},
     "output_type": "execute_result"
    }
   ],
   "source": [
    "model.fit(features_set, labels, epochs = 100, batch_size = 32)"
   ]
  },
  {
   "cell_type": "code",
   "execution_count": 47,
   "id": "0f6054db",
   "metadata": {},
   "outputs": [],
   "source": [
    "apple_testing_complete = pd.read_csv(r'D:\\DATA\\AAPL.csv')\n",
    "apple_testing_processed = apple_testing_complete.iloc[:, 1:2].values"
   ]
  },
  {
   "cell_type": "code",
   "execution_count": 48,
   "id": "65fcffb7",
   "metadata": {},
   "outputs": [],
   "source": [
    "apple_total = pd.concat((apple_training_complete['Open'], apple_testing_complete['Open']), axis=0)"
   ]
  },
  {
   "cell_type": "code",
   "execution_count": 49,
   "id": "56ab6d5a",
   "metadata": {},
   "outputs": [],
   "source": [
    "test_inputs = apple_total[len(apple_total) - len(apple_testing_complete) - 60:].values"
   ]
  },
  {
   "cell_type": "code",
   "execution_count": 50,
   "id": "8098ef36",
   "metadata": {},
   "outputs": [],
   "source": [
    "test_inputs = test_inputs.reshape(-1,1)\n",
    "test_inputs = scaler.transform(test_inputs)"
   ]
  },
  {
   "cell_type": "code",
   "execution_count": 51,
   "id": "62f5fa32",
   "metadata": {},
   "outputs": [],
   "source": [
    "test_features = []\n",
    "for i in range(60, 80):\n",
    "    test_features.append(test_inputs[i-60:i, 0])"
   ]
  },
  {
   "cell_type": "code",
   "execution_count": 52,
   "id": "bf084c02",
   "metadata": {},
   "outputs": [],
   "source": [
    "test_features = np.array(test_features)\n",
    "test_features = np.reshape(test_features, (test_features.shape[0], test_features.shape[1], 1))"
   ]
  },
  {
   "cell_type": "code",
   "execution_count": 53,
   "id": "61320a41",
   "metadata": {},
   "outputs": [
    {
     "name": "stdout",
     "output_type": "stream",
     "text": [
      "1/1 [==============================] - 4s 4s/step\n"
     ]
    }
   ],
   "source": [
    "predictions = model.predict(test_features)"
   ]
  },
  {
   "cell_type": "code",
   "execution_count": 54,
   "id": "2f0141aa",
   "metadata": {},
   "outputs": [],
   "source": [
    "predictions = scaler.inverse_transform(predictions)"
   ]
  },
  {
   "cell_type": "code",
   "execution_count": 55,
   "id": "383d6744",
   "metadata": {},
   "outputs": [
    {
     "data": {
      "image/png": "[encoded data removed]",
      "text/plain": [
       "<Figure size 720x432 with 1 Axes>"
      ]
     },
     "metadata": {
      "needs_background": "light"
     },
     "output_type": "display_data"
    }
   ],
   "source": [
    "plt.figure(figsize=(10,6))\n",
    "plt.plot(apple_testing_processed, color='blue', label='Actual Apple Stock Price')\n",
    "plt.plot(predictions , color='red', label='Predicted Apple Stock Price')\n",
    "plt.title('Apple Stock Price Prediction')\n",
    "plt.xlabel('Date')\n",
    "plt.ylabel('Apple Stock Price')\n",
    "plt.legend()\n",
    "plt.show()"
   ]
  },
  {
   "cell_type": "code",
   "execution_count": 61,
   "id": "cfd605a7",
   "metadata": {},
   "outputs": [],
   "source": []
  },
  {
   "cell_type": "code",
   "execution_count": 62,
   "id": "916c4cab",
   "metadata": {},
   "outputs": [],
   "source": [
    "    "
   ]
  },
  {
   "cell_type": "code",
   "execution_count": null,
   "id": "8ee21085",
   "metadata": {},
   "outputs": [],
   "source": []
  },
  {
   "cell_type": "code",
   "execution_count": null,
   "id": "94c2a943",
   "metadata": {},
   "outputs": [],
   "source": []
  },
  {
   "cell_type": "code",
   "execution_count": null,
   "id": "1ca98fd1",
   "metadata": {},
   "outputs": [],
   "source": []
  },
  {
   "cell_type": "code",
   "execution_count": null,
   "id": "c70b4686",
   "metadata": {},
   "outputs": [],
   "source": []
  },
  {
   "cell_type": "code",
   "execution_count": null,
   "id": "b61f4885",
   "metadata": {},
   "outputs": [],
   "source": []
  },
  {
   "cell_type": "code",
   "execution_count": null,
   "id": "5c6a3936",
   "metadata": {},
   "outputs": [],
   "source": []
  },
  {
   "cell_type": "code",
   "execution_count": null,
   "id": "3d1924d0",
   "metadata": {},
   "outputs": [],
   "source": []
  },
  {
   "cell_type": "code",
   "execution_count": null,
   "id": "91f9c895",
   "metadata": {},
   "outputs": [],
   "source": []
  },
  {
   "cell_type": "code",
   "execution_count": null,
   "id": "d14bb701",
   "metadata": {},
   "outputs": [],
   "source": []
  },
  {
   "cell_type": "code",
   "execution_count": null,
   "id": "e9a6b15b",
   "metadata": {},
   "outputs": [],
   "source": []
  }
 ],
 "metadata": {
  "kernelspec": {
   "display_name": "Python 3 (ipykernel)",
   "language": "python",
   "name": "python3"
  },
  "language_info": {
   "codemirror_mode": {
    "name": "ipython",
    "version": 3
   },
   "file_extension": ".py",
   "mimetype": "text/x-python",
   "name": "python",
   "nbconvert_exporter": "python",
   "pygments_lexer": "ipython3",
   "version": "3.9.12"
  }
 },
 "nbformat": 4,
 "nbformat_minor": 5
}
